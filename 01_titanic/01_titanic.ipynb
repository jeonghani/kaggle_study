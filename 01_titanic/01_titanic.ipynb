{
 "cells": [
  {
   "cell_type": "markdown",
   "id": "7fe446ff",
   "metadata": {},
   "source": [
    "<데이터 불러오기>\n",
    "\n",
    "numpy와 pandas를 import 하고, pd.read_csv를 이용해서 불러옴"
   ]
  },
  {
   "cell_type": "code",
   "execution_count": 1,
   "id": "b3b7f4cb",
   "metadata": {},
   "outputs": [],
   "source": [
    "import pandas as pd\n",
    "import numpy as np"
   ]
  },
  {
   "cell_type": "code",
   "execution_count": 2,
   "id": "8156b6dd",
   "metadata": {},
   "outputs": [],
   "source": [
    "train = pd.read_csv('train.csv')\n",
    "test = pd.read_csv('test.csv')"
   ]
  },
  {
   "cell_type": "markdown",
   "id": "01458693",
   "metadata": {},
   "source": [
    "데이터가 제대로 불러와졌는지 확인 ---> train.head() 실행\n",
    "\n",
    "별다른 명령이 없으면 상위 5개의 데이터를 가져옴 / train.head(10) -> 상위 10개"
   ]
  },
  {
   "cell_type": "code",
   "execution_count": 3,
   "id": "be5473a4",
   "metadata": {},
   "outputs": [
    {
     "data": {
      "text/html": [
       "<div>\n",
       "<style scoped>\n",
       "    .dataframe tbody tr th:only-of-type {\n",
       "        vertical-align: middle;\n",
       "    }\n",
       "\n",
       "    .dataframe tbody tr th {\n",
       "        vertical-align: top;\n",
       "    }\n",
       "\n",
       "    .dataframe thead th {\n",
       "        text-align: right;\n",
       "    }\n",
       "</style>\n",
       "<table border=\"1\" class=\"dataframe\">\n",
       "  <thead>\n",
       "    <tr style=\"text-align: right;\">\n",
       "      <th></th>\n",
       "      <th>PassengerId</th>\n",
       "      <th>Survived</th>\n",
       "      <th>Pclass</th>\n",
       "      <th>Name</th>\n",
       "      <th>Sex</th>\n",
       "      <th>Age</th>\n",
       "      <th>SibSp</th>\n",
       "      <th>Parch</th>\n",
       "      <th>Ticket</th>\n",
       "      <th>Fare</th>\n",
       "      <th>Cabin</th>\n",
       "      <th>Embarked</th>\n",
       "    </tr>\n",
       "  </thead>\n",
       "  <tbody>\n",
       "    <tr>\n",
       "      <th>0</th>\n",
       "      <td>1</td>\n",
       "      <td>0</td>\n",
       "      <td>3</td>\n",
       "      <td>Braund, Mr. Owen Harris</td>\n",
       "      <td>male</td>\n",
       "      <td>22.0</td>\n",
       "      <td>1</td>\n",
       "      <td>0</td>\n",
       "      <td>A/5 21171</td>\n",
       "      <td>7.2500</td>\n",
       "      <td>NaN</td>\n",
       "      <td>S</td>\n",
       "    </tr>\n",
       "    <tr>\n",
       "      <th>1</th>\n",
       "      <td>2</td>\n",
       "      <td>1</td>\n",
       "      <td>1</td>\n",
       "      <td>Cumings, Mrs. John Bradley (Florence Briggs Th...</td>\n",
       "      <td>female</td>\n",
       "      <td>38.0</td>\n",
       "      <td>1</td>\n",
       "      <td>0</td>\n",
       "      <td>PC 17599</td>\n",
       "      <td>71.2833</td>\n",
       "      <td>C85</td>\n",
       "      <td>C</td>\n",
       "    </tr>\n",
       "    <tr>\n",
       "      <th>2</th>\n",
       "      <td>3</td>\n",
       "      <td>1</td>\n",
       "      <td>3</td>\n",
       "      <td>Heikkinen, Miss. Laina</td>\n",
       "      <td>female</td>\n",
       "      <td>26.0</td>\n",
       "      <td>0</td>\n",
       "      <td>0</td>\n",
       "      <td>STON/O2. 3101282</td>\n",
       "      <td>7.9250</td>\n",
       "      <td>NaN</td>\n",
       "      <td>S</td>\n",
       "    </tr>\n",
       "    <tr>\n",
       "      <th>3</th>\n",
       "      <td>4</td>\n",
       "      <td>1</td>\n",
       "      <td>1</td>\n",
       "      <td>Futrelle, Mrs. Jacques Heath (Lily May Peel)</td>\n",
       "      <td>female</td>\n",
       "      <td>35.0</td>\n",
       "      <td>1</td>\n",
       "      <td>0</td>\n",
       "      <td>113803</td>\n",
       "      <td>53.1000</td>\n",
       "      <td>C123</td>\n",
       "      <td>S</td>\n",
       "    </tr>\n",
       "    <tr>\n",
       "      <th>4</th>\n",
       "      <td>5</td>\n",
       "      <td>0</td>\n",
       "      <td>3</td>\n",
       "      <td>Allen, Mr. William Henry</td>\n",
       "      <td>male</td>\n",
       "      <td>35.0</td>\n",
       "      <td>0</td>\n",
       "      <td>0</td>\n",
       "      <td>373450</td>\n",
       "      <td>8.0500</td>\n",
       "      <td>NaN</td>\n",
       "      <td>S</td>\n",
       "    </tr>\n",
       "  </tbody>\n",
       "</table>\n",
       "</div>"
      ],
      "text/plain": [
       "   PassengerId  Survived  Pclass  \\\n",
       "0            1         0       3   \n",
       "1            2         1       1   \n",
       "2            3         1       3   \n",
       "3            4         1       1   \n",
       "4            5         0       3   \n",
       "\n",
       "                                                Name     Sex   Age  SibSp  \\\n",
       "0                            Braund, Mr. Owen Harris    male  22.0      1   \n",
       "1  Cumings, Mrs. John Bradley (Florence Briggs Th...  female  38.0      1   \n",
       "2                             Heikkinen, Miss. Laina  female  26.0      0   \n",
       "3       Futrelle, Mrs. Jacques Heath (Lily May Peel)  female  35.0      1   \n",
       "4                           Allen, Mr. William Henry    male  35.0      0   \n",
       "\n",
       "   Parch            Ticket     Fare Cabin Embarked  \n",
       "0      0         A/5 21171   7.2500   NaN        S  \n",
       "1      0          PC 17599  71.2833   C85        C  \n",
       "2      0  STON/O2. 3101282   7.9250   NaN        S  \n",
       "3      0            113803  53.1000  C123        S  \n",
       "4      0            373450   8.0500   NaN        S  "
      ]
     },
     "execution_count": 3,
     "metadata": {},
     "output_type": "execute_result"
    }
   ],
   "source": [
    "train.head()"
   ]
  },
  {
   "cell_type": "markdown",
   "id": "32780d0a",
   "metadata": {},
   "source": [
    "<데이터 분석>\n",
    "\n",
    "Survied : 0 = No, 1 = Yes\n",
    "SipSp : 배우자나 형재 자매 명 수의 총합\n",
    "Pacch : 부모 자식 명 수의 총합"
   ]
  },
  {
   "cell_type": "code",
   "execution_count": 4,
   "id": "6e7c55a0",
   "metadata": {},
   "outputs": [
    {
     "name": "stdout",
     "output_type": "stream",
     "text": [
      "test data shape:  (891, 12)\n",
      "test data shape:  (418, 11)\n",
      "----------[train infomation]----------\n",
      "<class 'pandas.core.frame.DataFrame'>\n",
      "RangeIndex: 891 entries, 0 to 890\n",
      "Data columns (total 12 columns):\n",
      " #   Column       Non-Null Count  Dtype  \n",
      "---  ------       --------------  -----  \n",
      " 0   PassengerId  891 non-null    int64  \n",
      " 1   Survived     891 non-null    int64  \n",
      " 2   Pclass       891 non-null    int64  \n",
      " 3   Name         891 non-null    object \n",
      " 4   Sex          891 non-null    object \n",
      " 5   Age          714 non-null    float64\n",
      " 6   SibSp        891 non-null    int64  \n",
      " 7   Parch        891 non-null    int64  \n",
      " 8   Ticket       891 non-null    object \n",
      " 9   Fare         891 non-null    float64\n",
      " 10  Cabin        204 non-null    object \n",
      " 11  Embarked     889 non-null    object \n",
      "dtypes: float64(2), int64(5), object(5)\n",
      "memory usage: 83.7+ KB\n",
      "None\n",
      "----------[test infomation]----------\n",
      "<class 'pandas.core.frame.DataFrame'>\n",
      "RangeIndex: 418 entries, 0 to 417\n",
      "Data columns (total 11 columns):\n",
      " #   Column       Non-Null Count  Dtype  \n",
      "---  ------       --------------  -----  \n",
      " 0   PassengerId  418 non-null    int64  \n",
      " 1   Pclass       418 non-null    int64  \n",
      " 2   Name         418 non-null    object \n",
      " 3   Sex          418 non-null    object \n",
      " 4   Age          332 non-null    float64\n",
      " 5   SibSp        418 non-null    int64  \n",
      " 6   Parch        418 non-null    int64  \n",
      " 7   Ticket       418 non-null    object \n",
      " 8   Fare         417 non-null    float64\n",
      " 9   Cabin        91 non-null     object \n",
      " 10  Embarked     418 non-null    object \n",
      "dtypes: float64(2), int64(4), object(5)\n",
      "memory usage: 36.0+ KB\n",
      "None\n"
     ]
    }
   ],
   "source": [
    "print('test data shape: ', train.shape)\n",
    "print('test data shape: ', test.shape)\n",
    "print('----------[train infomation]----------')\n",
    "print(train.info())\n",
    "print('----------[test infomation]----------')\n",
    "print(test.info())"
   ]
  },
  {
   "cell_type": "markdown",
   "id": "6c43c0bf",
   "metadata": {},
   "source": [
    "shape와 info 기능은 데이터 확인 및 개요 확인에 기본이 됨"
   ]
  },
  {
   "cell_type": "markdown",
   "id": "0b710ba0",
   "metadata": {},
   "source": [
    "데이터 값의 분포를 보기 위해 라이브러리 사용"
   ]
  },
  {
   "cell_type": "code",
   "execution_count": 5,
   "id": "b03abfce",
   "metadata": {},
   "outputs": [],
   "source": [
    "import matplotlib.pyplot as plt\n",
    "%matplotlib inline\n",
    "import seaborn as sns\n",
    "sns.set()"
   ]
  },
  {
   "cell_type": "markdown",
   "id": "69e1db31",
   "metadata": {},
   "source": [
    "< Pie chart for Categorical Feature >\n",
    "\n",
    "sex, pclass, embarked의 Categorical Feature의 분포를 보기 위해 Pie chart를 만드는 함수 정의"
   ]
  },
  {
   "cell_type": "code",
   "execution_count": 6,
   "id": "ff190985",
   "metadata": {},
   "outputs": [],
   "source": [
    "def pie_chart(feature) :\n",
    "    feature_ratio = train[feature].value_counts(sort=False)\n",
    "    feature_size = feature_ratio.size\n",
    "    feature_index = feature_ratio.index\n",
    "    survived = train[train['Survived']==1][feature].value_counts()\n",
    "    dead = train[train['Survived']==0][feature].value_counts()\n",
    "    \n",
    "    plt.plot(aspect='auto')\n",
    "    plt.pie(feature_ratio, labels=feature_index, autopct='%1.1f%%')\n",
    "    plt.title(feature + '\\'s ratio in total')\n",
    "    plt.show()\n",
    "    \n",
    "    for i, index in enumerate(feature_index) :\n",
    "        plt.subplot(1, feature_size + 1, i+1, aspect='equal')\n",
    "        plt.pie([survived[index], dead[index]], labels=['Survived', 'Dead'], autopct='%1.1f%%')\n",
    "        plt.title(str(index) + '\\'s ratio')\n",
    "    \n",
    "    plt.show()"
   ]
  },
  {
   "cell_type": "code",
   "execution_count": 7,
   "id": "4c718e2e",
   "metadata": {},
   "outputs": [
    {
     "data": {
      "image/png": "[encoded data removed]",
      "text/plain": [
       "<Figure size 432x288 with 1 Axes>"
      ]
     },
     "metadata": {},
     "output_type": "display_data"
    },
    {
     "data": {
      "image/png": "[encoded data removed]",
      "text/plain": [
       "<Figure size 432x288 with 2 Axes>"
      ]
     },
     "metadata": {},
     "output_type": "display_data"
    }
   ],
   "source": [
    "pie_chart('Sex')"
   ]
  },
  {
   "cell_type": "markdown",
   "id": "f717f054",
   "metadata": {},
   "source": [
    "성별에 따른 생존률 pie chart"
   ]
  },
  {
   "cell_type": "code",
   "execution_count": 8,
   "id": "b1035d1e",
   "metadata": {},
   "outputs": [
    {
     "data": {
      "image/png": "[encoded data removed]",
      "text/plain": [
       "<Figure size 432x288 with 1 Axes>"
      ]
     },
     "metadata": {},
     "output_type": "display_data"
    },
    {
     "data": {
      "image/png": "[encoded data removed]",
      "text/plain": [
       "<Figure size 432x288 with 3 Axes>"
      ]
     },
     "metadata": {},
     "output_type": "display_data"
    }
   ],
   "source": [
    "pie_chart('Pclass')"
   ]
  },
  {
   "cell_type": "markdown",
   "id": "1b9f856e",
   "metadata": {},
   "source": [
    "티켓클래스에 따른 생존률 pie chart"
   ]
  },
  {
   "cell_type": "code",
   "execution_count": 9,
   "id": "def7a72f",
   "metadata": {},
   "outputs": [
    {
     "data": {
      "image/png": "[encoded data removed]",
      "text/plain": [
       "<Figure size 432x288 with 1 Axes>"
      ]
     },
     "metadata": {},
     "output_type": "display_data"
    },
    {
     "data": {
      "image/png": "[encoded data removed]",
      "text/plain": [
       "<Figure size 432x288 with 3 Axes>"
      ]
     },
     "metadata": {},
     "output_type": "display_data"
    }
   ],
   "source": [
    "pie_chart('Embarked')"
   ]
  },
  {
   "cell_type": "markdown",
   "id": "81fd1e42",
   "metadata": {},
   "source": [
    "탑승항구에 따른 생존률 pie chart"
   ]
  },
  {
   "cell_type": "markdown",
   "id": "1149379a",
   "metadata": {},
   "source": [
    "< Bar chaart for Categorical feature >\n",
    "\n",
    "SipSp, Parch에 대해 Bar chart를 정의해서 데이터 시각화하기"
   ]
  },
  {
   "cell_type": "code",
   "execution_count": 10,
   "id": "88d3c6b3",
   "metadata": {},
   "outputs": [],
   "source": [
    "def bar_chart(feature): \n",
    "    survived = train[train['Survived']==1][feature].value_counts() \n",
    "    dead = train[train['Survived']==0][feature].value_counts() \n",
    "    df = pd.DataFrame([survived,dead]) \n",
    "    df.index = ['Survived','Dead'] \n",
    "    df.plot(kind='bar',stacked=True, figsize=(10,5))"
   ]
  },
  {
   "cell_type": "code",
   "execution_count": 11,
   "id": "7387f514",
   "metadata": {},
   "outputs": [
    {
     "data": {
      "image/png": "[encoded data removed]",
      "text/plain": [
       "<Figure size 720x360 with 1 Axes>"
      ]
     },
     "metadata": {},
     "output_type": "display_data"
    }
   ],
   "source": [
    "bar_chart(\"SibSp\")"
   ]
  },
  {
   "cell_type": "markdown",
   "id": "dc29d5f7",
   "metadata": {},
   "source": [
    "형제, 자매, 배우자와 함께 탑승한 승객들의 생존률 bar chart"
   ]
  },
  {
   "cell_type": "code",
   "execution_count": 12,
   "id": "c7fbac24",
   "metadata": {},
   "outputs": [
    {
     "data": {
      "image/png": "[encoded data removed]",
      "text/plain": [
       "<Figure size 720x360 with 1 Axes>"
      ]
     },
     "metadata": {},
     "output_type": "display_data"
    }
   ],
   "source": [
    "bar_chart(\"Parch\")"
   ]
  },
  {
   "cell_type": "markdown",
   "id": "528db61c",
   "metadata": {},
   "source": [
    "부모, 자녀와 함께 탑승한 승객들의 생존률 bar chart"
   ]
  },
  {
   "cell_type": "markdown",
   "id": "9104cc09",
   "metadata": {},
   "source": [
    "---- 데이터 특성들\n",
    "\n",
    "성별이 여성일수록,\n",
    "\n",
    "Pclass가 높을수록,\n",
    "\n",
    "Cherbourg 선착장에서 배를 탔다면,\n",
    "\n",
    "형제, 자매, 배우자, 부모, 자녀와 함께 배를 탔다면,\n",
    "\n",
    "생존 확률이 더 높았다는 것을 확인 가능"
   ]
  },
  {
   "cell_type": "markdown",
   "id": "ddb60efc",
   "metadata": {},
   "source": [
    "하지만 하나의 특성과 생존 비율만을 생각하기에는 무리가 있음 --> 1차원적"
   ]
  },
  {
   "cell_type": "markdown",
   "id": "ea2b77c4",
   "metadata": {},
   "source": [
    "< 데이터 전처리 및 특성 추출 >\n",
    "\n",
    "데이터 전처리는 train과 test 데이터를 같은 방법으로 처리하기 때문에 두 개의 데이터를 먼저 합침"
   ]
  },
  {
   "cell_type": "code",
   "execution_count": 13,
   "id": "fea9c948",
   "metadata": {},
   "outputs": [],
   "source": [
    "train_and_test = [train, test]"
   ]
  },
  {
   "cell_type": "markdown",
   "id": "71f7c58a",
   "metadata": {},
   "source": [
    "< Name Feature >\n",
    "\n",
    "데이터 내 이름에는 Miss, Mr 등의 수식어가 붙어서 이것들으르 따로 추출하여 title에 넣어줌"
   ]
  },
  {
   "cell_type": "code",
   "execution_count": 14,
   "id": "2f748b22",
   "metadata": {},
   "outputs": [
    {
     "data": {
      "text/html": [
       "<div>\n",
       "<style scoped>\n",
       "    .dataframe tbody tr th:only-of-type {\n",
       "        vertical-align: middle;\n",
       "    }\n",
       "\n",
       "    .dataframe tbody tr th {\n",
       "        vertical-align: top;\n",
       "    }\n",
       "\n",
       "    .dataframe thead th {\n",
       "        text-align: right;\n",
       "    }\n",
       "</style>\n",
       "<table border=\"1\" class=\"dataframe\">\n",
       "  <thead>\n",
       "    <tr style=\"text-align: right;\">\n",
       "      <th></th>\n",
       "      <th>PassengerId</th>\n",
       "      <th>Survived</th>\n",
       "      <th>Pclass</th>\n",
       "      <th>Name</th>\n",
       "      <th>Sex</th>\n",
       "      <th>Age</th>\n",
       "      <th>SibSp</th>\n",
       "      <th>Parch</th>\n",
       "      <th>Ticket</th>\n",
       "      <th>Fare</th>\n",
       "      <th>Cabin</th>\n",
       "      <th>Embarked</th>\n",
       "      <th>Title</th>\n",
       "    </tr>\n",
       "  </thead>\n",
       "  <tbody>\n",
       "    <tr>\n",
       "      <th>0</th>\n",
       "      <td>1</td>\n",
       "      <td>0</td>\n",
       "      <td>3</td>\n",
       "      <td>Braund, Mr. Owen Harris</td>\n",
       "      <td>male</td>\n",
       "      <td>22.0</td>\n",
       "      <td>1</td>\n",
       "      <td>0</td>\n",
       "      <td>A/5 21171</td>\n",
       "      <td>7.2500</td>\n",
       "      <td>NaN</td>\n",
       "      <td>S</td>\n",
       "      <td>Mr</td>\n",
       "    </tr>\n",
       "    <tr>\n",
       "      <th>1</th>\n",
       "      <td>2</td>\n",
       "      <td>1</td>\n",
       "      <td>1</td>\n",
       "      <td>Cumings, Mrs. John Bradley (Florence Briggs Th...</td>\n",
       "      <td>female</td>\n",
       "      <td>38.0</td>\n",
       "      <td>1</td>\n",
       "      <td>0</td>\n",
       "      <td>PC 17599</td>\n",
       "      <td>71.2833</td>\n",
       "      <td>C85</td>\n",
       "      <td>C</td>\n",
       "      <td>Mrs</td>\n",
       "    </tr>\n",
       "    <tr>\n",
       "      <th>2</th>\n",
       "      <td>3</td>\n",
       "      <td>1</td>\n",
       "      <td>3</td>\n",
       "      <td>Heikkinen, Miss. Laina</td>\n",
       "      <td>female</td>\n",
       "      <td>26.0</td>\n",
       "      <td>0</td>\n",
       "      <td>0</td>\n",
       "      <td>STON/O2. 3101282</td>\n",
       "      <td>7.9250</td>\n",
       "      <td>NaN</td>\n",
       "      <td>S</td>\n",
       "      <td>Miss</td>\n",
       "    </tr>\n",
       "    <tr>\n",
       "      <th>3</th>\n",
       "      <td>4</td>\n",
       "      <td>1</td>\n",
       "      <td>1</td>\n",
       "      <td>Futrelle, Mrs. Jacques Heath (Lily May Peel)</td>\n",
       "      <td>female</td>\n",
       "      <td>35.0</td>\n",
       "      <td>1</td>\n",
       "      <td>0</td>\n",
       "      <td>113803</td>\n",
       "      <td>53.1000</td>\n",
       "      <td>C123</td>\n",
       "      <td>S</td>\n",
       "      <td>Mrs</td>\n",
       "    </tr>\n",
       "    <tr>\n",
       "      <th>4</th>\n",
       "      <td>5</td>\n",
       "      <td>0</td>\n",
       "      <td>3</td>\n",
       "      <td>Allen, Mr. William Henry</td>\n",
       "      <td>male</td>\n",
       "      <td>35.0</td>\n",
       "      <td>0</td>\n",
       "      <td>0</td>\n",
       "      <td>373450</td>\n",
       "      <td>8.0500</td>\n",
       "      <td>NaN</td>\n",
       "      <td>S</td>\n",
       "      <td>Mr</td>\n",
       "    </tr>\n",
       "  </tbody>\n",
       "</table>\n",
       "</div>"
      ],
      "text/plain": [
       "   PassengerId  Survived  Pclass  \\\n",
       "0            1         0       3   \n",
       "1            2         1       1   \n",
       "2            3         1       3   \n",
       "3            4         1       1   \n",
       "4            5         0       3   \n",
       "\n",
       "                                                Name     Sex   Age  SibSp  \\\n",
       "0                            Braund, Mr. Owen Harris    male  22.0      1   \n",
       "1  Cumings, Mrs. John Bradley (Florence Briggs Th...  female  38.0      1   \n",
       "2                             Heikkinen, Miss. Laina  female  26.0      0   \n",
       "3       Futrelle, Mrs. Jacques Heath (Lily May Peel)  female  35.0      1   \n",
       "4                           Allen, Mr. William Henry    male  35.0      0   \n",
       "\n",
       "   Parch            Ticket     Fare Cabin Embarked Title  \n",
       "0      0         A/5 21171   7.2500   NaN        S    Mr  \n",
       "1      0          PC 17599  71.2833   C85        C   Mrs  \n",
       "2      0  STON/O2. 3101282   7.9250   NaN        S  Miss  \n",
       "3      0            113803  53.1000  C123        S   Mrs  \n",
       "4      0            373450   8.0500   NaN        S    Mr  "
      ]
     },
     "execution_count": 14,
     "metadata": {},
     "output_type": "execute_result"
    }
   ],
   "source": [
    "for dataset in train_and_test :\n",
    "    dataset['Title'] = dataset.Name.str.extract(' ([A-Za-z]+)\\.')\n",
    "\n",
    "train.head()"
   ]
  },
  {
   "cell_type": "markdown",
   "id": "4c1f49c0",
   "metadata": {},
   "source": [
    "' ([A-Za-z]+)\\.' : 공백으로 시작하고, .으로 끝나는 문자열 추출"
   ]
  },
  {
   "cell_type": "markdown",
   "id": "f86c5afd",
   "metadata": {},
   "source": [
    "추출한 Title을 가진 사람이 몇 명 존재하는지 성별과 함께 표현"
   ]
  },
  {
   "cell_type": "code",
   "execution_count": 15,
   "id": "959b12ef",
   "metadata": {},
   "outputs": [
    {
     "data": {
      "text/html": [
       "<div>\n",
       "<style scoped>\n",
       "    .dataframe tbody tr th:only-of-type {\n",
       "        vertical-align: middle;\n",
       "    }\n",
       "\n",
       "    .dataframe tbody tr th {\n",
       "        vertical-align: top;\n",
       "    }\n",
       "\n",
       "    .dataframe thead th {\n",
       "        text-align: right;\n",
       "    }\n",
       "</style>\n",
       "<table border=\"1\" class=\"dataframe\">\n",
       "  <thead>\n",
       "    <tr style=\"text-align: right;\">\n",
       "      <th>Sex</th>\n",
       "      <th>female</th>\n",
       "      <th>male</th>\n",
       "    </tr>\n",
       "    <tr>\n",
       "      <th>Title</th>\n",
       "      <th></th>\n",
       "      <th></th>\n",
       "    </tr>\n",
       "  </thead>\n",
       "  <tbody>\n",
       "    <tr>\n",
       "      <th>Capt</th>\n",
       "      <td>0</td>\n",
       "      <td>1</td>\n",
       "    </tr>\n",
       "    <tr>\n",
       "      <th>Col</th>\n",
       "      <td>0</td>\n",
       "      <td>2</td>\n",
       "    </tr>\n",
       "    <tr>\n",
       "      <th>Countess</th>\n",
       "      <td>1</td>\n",
       "      <td>0</td>\n",
       "    </tr>\n",
       "    <tr>\n",
       "      <th>Don</th>\n",
       "      <td>0</td>\n",
       "      <td>1</td>\n",
       "    </tr>\n",
       "    <tr>\n",
       "      <th>Dr</th>\n",
       "      <td>1</td>\n",
       "      <td>6</td>\n",
       "    </tr>\n",
       "    <tr>\n",
       "      <th>Jonkheer</th>\n",
       "      <td>0</td>\n",
       "      <td>1</td>\n",
       "    </tr>\n",
       "    <tr>\n",
       "      <th>Lady</th>\n",
       "      <td>1</td>\n",
       "      <td>0</td>\n",
       "    </tr>\n",
       "    <tr>\n",
       "      <th>Major</th>\n",
       "      <td>0</td>\n",
       "      <td>2</td>\n",
       "    </tr>\n",
       "    <tr>\n",
       "      <th>Master</th>\n",
       "      <td>0</td>\n",
       "      <td>40</td>\n",
       "    </tr>\n",
       "    <tr>\n",
       "      <th>Miss</th>\n",
       "      <td>182</td>\n",
       "      <td>0</td>\n",
       "    </tr>\n",
       "    <tr>\n",
       "      <th>Mlle</th>\n",
       "      <td>2</td>\n",
       "      <td>0</td>\n",
       "    </tr>\n",
       "    <tr>\n",
       "      <th>Mme</th>\n",
       "      <td>1</td>\n",
       "      <td>0</td>\n",
       "    </tr>\n",
       "    <tr>\n",
       "      <th>Mr</th>\n",
       "      <td>0</td>\n",
       "      <td>517</td>\n",
       "    </tr>\n",
       "    <tr>\n",
       "      <th>Mrs</th>\n",
       "      <td>125</td>\n",
       "      <td>0</td>\n",
       "    </tr>\n",
       "    <tr>\n",
       "      <th>Ms</th>\n",
       "      <td>1</td>\n",
       "      <td>0</td>\n",
       "    </tr>\n",
       "    <tr>\n",
       "      <th>Rev</th>\n",
       "      <td>0</td>\n",
       "      <td>6</td>\n",
       "    </tr>\n",
       "    <tr>\n",
       "      <th>Sir</th>\n",
       "      <td>0</td>\n",
       "      <td>1</td>\n",
       "    </tr>\n",
       "  </tbody>\n",
       "</table>\n",
       "</div>"
      ],
      "text/plain": [
       "Sex       female  male\n",
       "Title                 \n",
       "Capt           0     1\n",
       "Col            0     2\n",
       "Countess       1     0\n",
       "Don            0     1\n",
       "Dr             1     6\n",
       "Jonkheer       0     1\n",
       "Lady           1     0\n",
       "Major          0     2\n",
       "Master         0    40\n",
       "Miss         182     0\n",
       "Mlle           2     0\n",
       "Mme            1     0\n",
       "Mr             0   517\n",
       "Mrs          125     0\n",
       "Ms             1     0\n",
       "Rev            0     6\n",
       "Sir            0     1"
      ]
     },
     "execution_count": 15,
     "metadata": {},
     "output_type": "execute_result"
    }
   ],
   "source": [
    "pd.crosstab(train['Title'], train['Sex'])"
   ]
  },
  {
   "cell_type": "markdown",
   "id": "49648bd8",
   "metadata": {},
   "source": [
    "흔하지 않은 Title은 Other로 대체하고, 중복되는 표현 통일"
   ]
  },
  {
   "cell_type": "code",
   "execution_count": 16,
   "id": "51115277",
   "metadata": {},
   "outputs": [
    {
     "data": {
      "text/html": [
       "<div>\n",
       "<style scoped>\n",
       "    .dataframe tbody tr th:only-of-type {\n",
       "        vertical-align: middle;\n",
       "    }\n",
       "\n",
       "    .dataframe tbody tr th {\n",
       "        vertical-align: top;\n",
       "    }\n",
       "\n",
       "    .dataframe thead th {\n",
       "        text-align: right;\n",
       "    }\n",
       "</style>\n",
       "<table border=\"1\" class=\"dataframe\">\n",
       "  <thead>\n",
       "    <tr style=\"text-align: right;\">\n",
       "      <th></th>\n",
       "      <th>Title</th>\n",
       "      <th>Survived</th>\n",
       "    </tr>\n",
       "  </thead>\n",
       "  <tbody>\n",
       "    <tr>\n",
       "      <th>0</th>\n",
       "      <td>Master</td>\n",
       "      <td>0.575000</td>\n",
       "    </tr>\n",
       "    <tr>\n",
       "      <th>1</th>\n",
       "      <td>Miss</td>\n",
       "      <td>0.699454</td>\n",
       "    </tr>\n",
       "    <tr>\n",
       "      <th>2</th>\n",
       "      <td>Mlle</td>\n",
       "      <td>1.000000</td>\n",
       "    </tr>\n",
       "    <tr>\n",
       "      <th>3</th>\n",
       "      <td>Mr</td>\n",
       "      <td>0.156673</td>\n",
       "    </tr>\n",
       "    <tr>\n",
       "      <th>4</th>\n",
       "      <td>Mrs</td>\n",
       "      <td>0.793651</td>\n",
       "    </tr>\n",
       "    <tr>\n",
       "      <th>5</th>\n",
       "      <td>Other</td>\n",
       "      <td>0.347826</td>\n",
       "    </tr>\n",
       "  </tbody>\n",
       "</table>\n",
       "</div>"
      ],
      "text/plain": [
       "    Title  Survived\n",
       "0  Master  0.575000\n",
       "1    Miss  0.699454\n",
       "2    Mlle  1.000000\n",
       "3      Mr  0.156673\n",
       "4     Mrs  0.793651\n",
       "5   Other  0.347826"
      ]
     },
     "execution_count": 16,
     "metadata": {},
     "output_type": "execute_result"
    }
   ],
   "source": [
    "for dataset in train_and_test :\n",
    "    dataset['Title']=dataset['Title'].replace(['Capt', 'Col', 'Countess', 'Don', 'Dr', 'Jonkheer', 'Lady',\n",
    "                                              'Major', 'Rev', 'Sir'], 'Other')\n",
    "    dataset['Title']=dataset['Title'].replace('Mile', 'Miss')\n",
    "    dataset['Title']=dataset['Title'].replace('Mme', 'Mrs')\n",
    "    dataset['Title']=dataset['Title'].replace('Ms', 'Miss')\n",
    "\n",
    "train[['Title', 'Survived']].groupby(['Title'], as_index=False).mean()"
   ]
  },
  {
   "cell_type": "markdown",
   "id": "13de05fb",
   "metadata": {},
   "source": [
    "title 데이터를 학습할 수 있도록 String Date Type으로 변형"
   ]
  },
  {
   "cell_type": "code",
   "execution_count": 17,
   "id": "732816d7",
   "metadata": {},
   "outputs": [],
   "source": [
    "for dataset in train_and_test :\n",
    "    dataset['Title']=dataset['Title'].astype(str)"
   ]
  },
  {
   "cell_type": "markdown",
   "id": "7139f44b",
   "metadata": {},
   "source": [
    "< Sex Feature >\n",
    "\n",
    "이미 male과 female로 나눠져 있으므로 String Data로 변형해주면 됨"
   ]
  },
  {
   "cell_type": "code",
   "execution_count": 18,
   "id": "1fcadf85",
   "metadata": {},
   "outputs": [],
   "source": [
    "for dataset in train_and_test :\n",
    "    dataset['Sex']=dataset['Sex'].astype(str)"
   ]
  },
  {
   "cell_type": "markdown",
   "id": "e630505e",
   "metadata": {},
   "source": [
    "< Embarked Feature >\n",
    "\n",
    "train 데이터에서 Embarked Feature에는 NaN값이 존재"
   ]
  },
  {
   "cell_type": "code",
   "execution_count": 19,
   "id": "974aee64",
   "metadata": {},
   "outputs": [
    {
     "data": {
      "text/plain": [
       "S      644\n",
       "C      168\n",
       "Q       77\n",
       "NaN      2\n",
       "Name: Embarked, dtype: int64"
      ]
     },
     "execution_count": 19,
     "metadata": {},
     "output_type": "execute_result"
    }
   ],
   "source": [
    "train.Embarked.value_counts(dropna=False)"
   ]
  },
  {
   "cell_type": "markdown",
   "id": "2763caf2",
   "metadata": {},
   "source": [
    "dropna=False : NaN 값을 포함한 갯수의 총합을 세줌\n",
    "\n",
    "S가 대부분이고, 빠져있는 두개의 데이터도 거기에 속할 확률이 크기 때문에 S로 넣어주고 String Data로 변형"
   ]
  },
  {
   "cell_type": "code",
   "execution_count": 20,
   "id": "88cc97f5",
   "metadata": {},
   "outputs": [],
   "source": [
    "for dataseet in train_and_test :\n",
    "    dataset['Embarked']=dataset['Embarked'].fillna('S')\n",
    "    dataset['Embarked']=dataset['Embarked'].astype(str)"
   ]
  },
  {
   "cell_type": "markdown",
   "id": "f1f909e9",
   "metadata": {},
   "source": [
    "< Age Feature >\n",
    "\n",
    "Age Feature에도 NaN값은 존재하는데, 일단 빠진 값에는 나머지 모든 승객 나이의 평균을 넣어줌\n",
    "\n",
    "연속적인 numeric data를 처리하는 방법에도 여러가지가 있는데, 이번에는 Binning을 사용할 것\n",
    "\n",
    "Binnig이란 여러 종류의 데이터에 대해 범위를 지정해주거나 카테고리를 통해 이전보다 작은 수의 그룹으로 만드는 기법\n",
    "\n",
    "이를 통해서 단일성 분포의 왜곡을 막을 수 있지만, 이산화를 통한 데이터의 손실이라는 단점도 존재한다.\n",
    "\n",
    "이번에는 pd.cut()을 이용해 같은 길이의 구간을 가지는 다섯 개의 그룹을 만든다"
   ]
  },
  {
   "cell_type": "code",
   "execution_count": 21,
   "id": "4e334ead",
   "metadata": {},
   "outputs": [
    {
     "name": "stdout",
     "output_type": "stream",
     "text": [
      "         AgeBand  Survived\n",
      "0  (-0.08, 16.0]  0.550000\n",
      "1   (16.0, 32.0]  0.344762\n",
      "2   (32.0, 48.0]  0.403226\n",
      "3   (48.0, 64.0]  0.434783\n",
      "4   (64.0, 80.0]  0.090909\n"
     ]
    }
   ],
   "source": [
    "for dataset in train_and_test :\n",
    "    dataset['Age'].fillna(dataset['Age'].mean(), inplace=True)\n",
    "    dataset['Age']=dataset['Age'].astype(int)\n",
    "    train['AgeBand']=pd.cut(train['Age'], 5)\n",
    "\n",
    "print(train[['AgeBand', 'Survived']].groupby(['AgeBand'], as_index=False).mean())"
   ]
  },
  {
   "cell_type": "markdown",
   "id": "e466ed58",
   "metadata": {},
   "source": [
    "Age에 들어있는 값을 위에 구한 구간에 속하도록 바꿔줌"
   ]
  },
  {
   "cell_type": "code",
   "execution_count": 22,
   "id": "5c0cc0a9",
   "metadata": {},
   "outputs": [],
   "source": [
    "for dataset in train_and_test :\n",
    "    dataset.loc[ dataset['Age'] <= 16, 'Age'] = 0 \n",
    "    dataset.loc[(dataset['Age'] > 16) & (dataset['Age'] <= 32), 'Age'] = 1 \n",
    "    dataset.loc[(dataset['Age'] > 32) & (dataset['Age'] <= 48), 'Age'] = 2 \n",
    "    dataset.loc[(dataset['Age'] > 48) & (dataset['Age'] <= 64), 'Age'] = 3 \n",
    "    dataset.loc[ dataset['Age'] > 64, 'Age'] = 4 \n",
    "    dataset['Age'] = dataset['Age'].map( { 0: 'Child', 1: 'Young', 2: 'Middle', 3: 'Prime', 4: 'Old'} ).astype(str)"
   ]
  },
  {
   "cell_type": "markdown",
   "id": "e9bfee7f",
   "metadata": {},
   "source": [
    "< Fare Feature > 운임 비용\n",
    "\n",
    "Fare Feature에도 NaN 값이 하나 존재하는데,\n",
    "\n",
    "Pclass와 Fare가 어느 정도 연관성이 있는 것 같아 Fare 데이터가 빠진 값의 Pclass를 가진 사람들의 평균 Fare를 넣어줌"
   ]
  },
  {
   "cell_type": "code",
   "execution_count": 23,
   "id": "b76ebfc8",
   "metadata": {},
   "outputs": [
    {
     "name": "stdout",
     "output_type": "stream",
     "text": [
      "   Pclass       Fare\n",
      "0       1  84.154687\n",
      "1       2  20.662183\n",
      "2       3  13.675550\n",
      "\n",
      "152    3\n",
      "Name: Pclass, dtype: int64\n"
     ]
    }
   ],
   "source": [
    "print(train[['Pclass', 'Fare']].groupby(['Pclass'], as_index=False).mean())\n",
    "print(\"\")\n",
    "print(test[test[\"Fare\"].isnull()][\"Pclass\"])"
   ]
  },
  {
   "cell_type": "markdown",
   "id": "a6b8526d",
   "metadata": {},
   "source": [
    "누락된 Pclass는 3\n",
    "\n",
    "train 데이터에서 Pclass가 3인 사람들의 평균 Fare가 13.675550이므로 이 값을 넣어줌"
   ]
  },
  {
   "cell_type": "code",
   "execution_count": 24,
   "id": "6d815f26",
   "metadata": {},
   "outputs": [],
   "source": [
    "for dataset in train_and_test :\n",
    "    dataset['Fare']=dataset['Fare'].fillna(13.675)"
   ]
  },
  {
   "cell_type": "markdown",
   "id": "3a8a6d87",
   "metadata": {},
   "source": [
    "아까 Age에서도 그랬듯이, Fare에도 Binning을 한다. 하지만 위에서와는 달리 Numeric한 값으로 남겨둔다."
   ]
  },
  {
   "cell_type": "code",
   "execution_count": 25,
   "id": "a6a7ee55",
   "metadata": {},
   "outputs": [],
   "source": [
    "for dataset in train_and_test:\n",
    "    dataset.loc[ dataset['Fare'] <= 7.854, 'Fare'] = 0\n",
    "    dataset.loc[(dataset['Fare'] > 7.854) & (dataset['Fare'] <= 10.5), 'Fare'] = 1\n",
    "    dataset.loc[(dataset['Fare'] > 10.5) & (dataset['Fare'] <= 21.679), 'Fare']   = 2\n",
    "    dataset.loc[(dataset['Fare'] > 21.679) & (dataset['Fare'] <= 39.688), 'Fare']   = 3\n",
    "    dataset.loc[ dataset['Fare'] > 39.688, 'Fare'] = 4\n",
    "    dataset['Fare'] = dataset['Fare'].astype(int)"
   ]
  },
  {
   "cell_type": "markdown",
   "id": "42973b24",
   "metadata": {},
   "source": [
    "< SibSp & Parch Feature (Family) >\n",
    "\n",
    "형제, 자매, 배우자, 부모님, 자녀의 수가 많을수록 생존한 경우가 많았는데,\n",
    "\n",
    "두개의 Feature 합쳐서 Family라는 Feature로 만듦"
   ]
  },
  {
   "cell_type": "code",
   "execution_count": 26,
   "id": "955a1ef7",
   "metadata": {},
   "outputs": [],
   "source": [
    "for dataset in train_and_test :\n",
    "    dataset[\"Family\"]=dataset[\"Parch\"]+dataset[\"SibSp\"]\n",
    "    dataset[\"Family\"]=dataset['Family'].astype(int)"
   ]
  },
  {
   "cell_type": "markdown",
   "id": "32c1fb36",
   "metadata": {},
   "source": [
    "계획한 Feature Data의 전처리가 끝나, 학습 때 제외할 Feature들 Drop"
   ]
  },
  {
   "cell_type": "code",
   "execution_count": 27,
   "id": "61a9aa1d",
   "metadata": {},
   "outputs": [
    {
     "name": "stdout",
     "output_type": "stream",
     "text": [
      "   Survived  Pclass     Sex     Age  Fare Embarked Title  Family\n",
      "0         0       3    male   Young     0        S    Mr       1\n",
      "1         1       1  female  Middle     4        C   Mrs       1\n",
      "2         1       3  female   Young     1        S  Miss       0\n",
      "3         1       1  female  Middle     4        S   Mrs       1\n",
      "4         0       3    male  Middle     1        S    Mr       0\n",
      "   PassengerId  Pclass     Sex     Age  Fare Embarked Title  Family\n",
      "0          892       3    male  Middle     0        Q    Mr       0\n",
      "1          893       3  female  Middle     0        S   Mrs       1\n",
      "2          894       2    male   Prime     1        Q    Mr       0\n",
      "3          895       3    male   Young     1        S    Mr       0\n",
      "4          896       3  female   Young     2        S   Mrs       2\n"
     ]
    }
   ],
   "source": [
    "features_drop = ['Name', 'Ticket', 'Cabin', 'SibSp', 'Parch']\n",
    "train = train.drop(features_drop, axis=1)\n",
    "test = test.drop(features_drop, axis=1)\n",
    "train = train.drop(['PassengerId', 'AgeBand'], axis=1)\n",
    "\n",
    "print(train.head())\n",
    "print(test.head())"
   ]
  },
  {
   "cell_type": "markdown",
   "id": "0bbb0dfb",
   "metadata": {},
   "source": [
    "가공된 train, test 데이터\n",
    "\n",
    "Categorical Feature에 대해 one-hot encoding과 train data와 label을 분리시키는 작업 -> 예측 모델 학습 준비 끝"
   ]
  },
  {
   "cell_type": "code",
   "execution_count": 28,
   "id": "500b042b",
   "metadata": {},
   "outputs": [],
   "source": [
    "train = pd.get_dummies(train)\n",
    "test = pd.get_dummies(test)\n",
    "\n",
    "train_label = train['Survived']\n",
    "train_data = train.drop('Survived', axis=1)\n",
    "test_data = test.drop('PassengerId', axis=1).copy()"
   ]
  },
  {
   "cell_type": "markdown",
   "id": "62ac5a2e",
   "metadata": {},
   "source": [
    "<모델 설계 및 학습>\n",
    "\n",
    "사용할 예측 모델 5가지\n",
    "\n",
    "1. Logistic Regression\n",
    "2. Support Vector Machine (SVM)\n",
    "3. k-Nearest Neighbor (kNN)\n",
    "4. Random Forest\n",
    "5. Naive Bayes"
   ]
  },
  {
   "cell_type": "code",
   "execution_count": 29,
   "id": "b0b0d6e0",
   "metadata": {},
   "outputs": [],
   "source": [
    "from sklearn.linear_model import LogisticRegression\n",
    "from sklearn.svm import SVC\n",
    "from sklearn.neighbors import KNeighborsClassifier\n",
    "from sklearn.ensemble import RandomForestClassifier\n",
    "from sklearn.naive_bayes import GaussianNB\n",
    "\n",
    "from sklearn.utils import shuffle"
   ]
  },
  {
   "cell_type": "markdown",
   "id": "5180a371",
   "metadata": {},
   "source": [
    "데이터 정렬되어 있어 학습에 방해가 생길지 모르니 데이터를 섞어줌"
   ]
  },
  {
   "cell_type": "code",
   "execution_count": 30,
   "id": "9f9b7a57",
   "metadata": {},
   "outputs": [],
   "source": [
    "train_data, train_label = shuffle(train_data, train_label, random_state=5)"
   ]
  },
  {
   "cell_type": "markdown",
   "id": "6fe38962",
   "metadata": {},
   "source": [
    "모델 학습과 평가에 대한 pipeline을 만듦\n",
    "\n",
    "scikit-learn에서 제공하는 fit()과 predict()를 사용하면 간단하게 학습과 예측 가능"
   ]
  },
  {
   "cell_type": "code",
   "execution_count": 31,
   "id": "87686c4b",
   "metadata": {},
   "outputs": [],
   "source": [
    "def train_and_test(model) :\n",
    "    model.fit(train_data, train_label)\n",
    "    prediction = model.predict(test_data)\n",
    "    accuracy = round(model.score(train_data, train_label)*100, 2)\n",
    "    print(\"Accuracy: \", accuracy, \"%\")\n",
    "    return prediction"
   ]
  },
  {
   "cell_type": "markdown",
   "id": "82caa8a2",
   "metadata": {},
   "source": [
    "함수에 다섯가지 모델을 넣어주면 학습과 평가가 완료됨"
   ]
  },
  {
   "cell_type": "code",
   "execution_count": 32,
   "id": "3c98048e",
   "metadata": {},
   "outputs": [
    {
     "name": "stderr",
     "output_type": "stream",
     "text": [
      "c:\\users\\wjdgk\\miniconda3\\lib\\site-packages\\sklearn\\base.py:493: FutureWarning: The feature names should match those that were passed during fit. Starting version 1.2, an error will be raised.\n",
      "Feature names unseen at fit time:\n",
      "- Title_Dona\n",
      "Feature names seen at fit time, yet now missing:\n",
      "- Title_Mlle\n",
      "\n",
      "  warnings.warn(message, FutureWarning)\n",
      "c:\\users\\wjdgk\\miniconda3\\lib\\site-packages\\sklearn\\base.py:493: FutureWarning: The feature names should match those that were passed during fit. Starting version 1.2, an error will be raised.\n",
      "Feature names unseen at fit time:\n",
      "- Title_Dona\n",
      "Feature names seen at fit time, yet now missing:\n",
      "- Title_Mlle\n",
      "\n",
      "  warnings.warn(message, FutureWarning)\n",
      "c:\\users\\wjdgk\\miniconda3\\lib\\site-packages\\sklearn\\base.py:493: FutureWarning: The feature names should match those that were passed during fit. Starting version 1.2, an error will be raised.\n",
      "Feature names unseen at fit time:\n",
      "- Title_Dona\n",
      "Feature names seen at fit time, yet now missing:\n",
      "- Title_Mlle\n",
      "\n",
      "  warnings.warn(message, FutureWarning)\n"
     ]
    },
    {
     "name": "stdout",
     "output_type": "stream",
     "text": [
      "Accuracy:  82.72 %\n",
      "Accuracy:  83.5 %\n",
      "Accuracy:  84.85 %\n",
      "Accuracy:  88.55 %\n",
      "Accuracy:  81.59 %\n"
     ]
    },
    {
     "name": "stderr",
     "output_type": "stream",
     "text": [
      "c:\\users\\wjdgk\\miniconda3\\lib\\site-packages\\sklearn\\base.py:493: FutureWarning: The feature names should match those that were passed during fit. Starting version 1.2, an error will be raised.\n",
      "Feature names unseen at fit time:\n",
      "- Title_Dona\n",
      "Feature names seen at fit time, yet now missing:\n",
      "- Title_Mlle\n",
      "\n",
      "  warnings.warn(message, FutureWarning)\n",
      "c:\\users\\wjdgk\\miniconda3\\lib\\site-packages\\sklearn\\base.py:493: FutureWarning: The feature names should match those that were passed during fit. Starting version 1.2, an error will be raised.\n",
      "Feature names unseen at fit time:\n",
      "- Title_Dona\n",
      "Feature names seen at fit time, yet now missing:\n",
      "- Title_Mlle\n",
      "\n",
      "  warnings.warn(message, FutureWarning)\n"
     ]
    }
   ],
   "source": [
    "# Logistic Regression \n",
    "log_pred = train_and_test(LogisticRegression()) \n",
    "# SVM \n",
    "svm_pred = train_and_test(SVC()) \n",
    "#kNN \n",
    "knn_pred_4 = train_and_test(KNeighborsClassifier(n_neighbors = 4)) \n",
    "# Random Forest \n",
    "rf_pred = train_and_test(RandomForestClassifier(n_estimators=100)) \n",
    "# Navie Bayes \n",
    "nb_pred = train_and_test(GaussianNB())"
   ]
  },
  {
   "cell_type": "markdown",
   "id": "8f8179a3",
   "metadata": {},
   "source": [
    "4번째 모델의 정확도가 가장 높아 이 모델을 이용해서 submission"
   ]
  },
  {
   "cell_type": "code",
   "execution_count": 34,
   "id": "01582cb0",
   "metadata": {},
   "outputs": [],
   "source": [
    "submission = pd.DataFrame({ \n",
    "    \"PassengerId\": test[\"PassengerId\"], \n",
    "    \"Survived\": rf_pred \n",
    "}) \n",
    "submission.to_csv('submission_rf.csv', index=False)"
   ]
  },
  {
   "cell_type": "code",
   "execution_count": null,
   "id": "a90a737b",
   "metadata": {},
   "outputs": [],
   "source": []
  }
 ],
 "metadata": {
  "kernelspec": {
   "display_name": "Python 3 (ipykernel)",
   "language": "python",
   "name": "python3"
  },
  "language_info": {
   "codemirror_mode": {
    "name": "ipython",
    "version": 3
   },
   "file_extension": ".py",
   "mimetype": "text/x-python",
   "name": "python",
   "nbconvert_exporter": "python",
   "pygments_lexer": "ipython3",
   "version": "3.9.5"
  }
 },
 "nbformat": 4,
 "nbformat_minor": 5
}
